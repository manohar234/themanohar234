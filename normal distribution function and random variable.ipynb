{
 "cells": [
  {
   "cell_type": "code",
   "execution_count": null,
   "id": "4b6e824b",
   "metadata": {},
   "outputs": [],
   "source": [
    "The work begin after 10 min, so the average time increase from 45min to 55min.\n",
    "\n",
    "for normal distribution :-\n",
    "\n",
    "z = (X-μ)/б\n",
    "\n",
    "= (60-55)/8        \n",
    "\n",
    "= 0.625\n",
    "\n",
    "In R software for probability finding we use function called pnorm\n",
    "\n",
    "As we want to find the probability of service manager cannot meet his commitment, So we should write below command.\n",
    "\n",
    "1-pnorm(0.625)\n",
    "\n",
    "=0.2659\n",
    "\n"
   ]
  },
  {
   "cell_type": "code",
   "execution_count": null,
   "id": "6a4d066e",
   "metadata": {},
   "outputs": [],
   "source": []
  },
  {
   "cell_type": "code",
   "execution_count": null,
   "id": "d3a8e1c8",
   "metadata": {},
   "outputs": [],
   "source": [
    "#Q1\n",
    "#The work begin after 10 min, so the average time increase from 45min to 55min.\n",
    "# required average =x=60 minute,loc= actual average of the dataset, scale= actual std of dataset\n",
    "# Q1"
   ]
  },
  {
   "cell_type": "code",
   "execution_count": 1,
   "id": "bfc483e4",
   "metadata": {},
   "outputs": [],
   "source": [
    "from scipy import stats"
   ]
  },
  {
   "cell_type": "code",
   "execution_count": 3,
   "id": "188a0365",
   "metadata": {},
   "outputs": [
    {
     "data": {
      "text/plain": [
       "0.26598552904870054"
      ]
     },
     "execution_count": 3,
     "metadata": {},
     "output_type": "execute_result"
    }
   ],
   "source": [
    "p= 1-stats.norm.cdf(60,loc=55,scale=8)\n",
    "p"
   ]
  },
  {
   "cell_type": "code",
   "execution_count": null,
   "id": "5ed46c0e",
   "metadata": {},
   "outputs": [],
   "source": [
    "# the probability of service manager cannot meet his commitment is 26.59%"
   ]
  },
  {
   "cell_type": "code",
   "execution_count": null,
   "id": "01837555",
   "metadata": {},
   "outputs": [],
   "source": [
    "#The current age (in years) of 400 clerical employees at an insurance claims processing center is \n",
    "normally distributed with mean = 38 and Standard deviation = 6. For each statement below, \n",
    "please specify True/False. If false, briefly explain why.\n",
    "A. More employees at the processing center are older than 44 than between 38 and 44.\n",
    "B. A training program for employees under the age of 30 at the center would be expected to attract \n",
    "about 36 employees.\n",
    "Ans - We have a normal distribution with = 38 and = 6. Let X be the number of employees. S"
   ]
  },
  {
   "cell_type": "code",
   "execution_count": null,
   "id": "b245c8bc",
   "metadata": {},
   "outputs": [],
   "source": []
  },
  {
   "cell_type": "code",
   "execution_count": null,
   "id": "513ad882",
   "metadata": {},
   "outputs": [],
   "source": [
    "# Q4 X ~ N(100, 20*2). mean=100,std=20"
   ]
  },
  {
   "cell_type": "code",
   "execution_count": 6,
   "id": "bb58c088",
   "metadata": {},
   "outputs": [
    {
     "data": {
      "text/plain": [
       "0.9949879956682387"
      ]
     },
     "execution_count": 6,
     "metadata": {},
     "output_type": "execute_result"
    }
   ],
   "source": [
    "p1= stats.norm.cdf(151.5,loc=100,scale=20)\n",
    "p1"
   ]
  },
  {
   "cell_type": "code",
   "execution_count": 7,
   "id": "01fa8246",
   "metadata": {},
   "outputs": [
    {
     "data": {
      "text/plain": [
       "0.005012004331761333"
      ]
     },
     "execution_count": 7,
     "metadata": {},
     "output_type": "execute_result"
    }
   ],
   "source": [
    "p2= stats.norm.cdf(48.5,loc=100,scale=20)\n",
    "p2"
   ]
  },
  {
   "cell_type": "code",
   "execution_count": 8,
   "id": "8c079206",
   "metadata": {},
   "outputs": [
    {
     "data": {
      "text/plain": [
       "0.9899759913364774"
      ]
     },
     "execution_count": 8,
     "metadata": {},
     "output_type": "execute_result"
    }
   ],
   "source": [
    "p1-p2"
   ]
  },
  {
   "cell_type": "code",
   "execution_count": null,
   "id": "9e071a68",
   "metadata": {},
   "outputs": [],
   "source": [
    "# so option d is correct"
   ]
  },
  {
   "cell_type": "code",
   "execution_count": null,
   "id": "98f51c5c",
   "metadata": {},
   "outputs": [],
   "source": [
    "5.\tConsider a company that has two different divisions. The annual profits from the two divisions are independent and\n",
    "have distributions Profit1 ~ N(5, 32) and Profit2 ~ N(7, 42) respectively. Both the profits are in $ Million.\n",
    "Answer the following questions about the total profit of the company in Rupees. Assume that $1 = Rs. 45\n",
    "A.\tSpecify a Rupee range (centered on the mean) such that it contains 95% probability for the annual profit of the company.\n",
    "B.\tSpecify the 5th percentile of profit (in Rupees) for the company\n",
    "C.\tWhich of the two divisions has a larger probability of making a loss in a given year?\n"
   ]
  },
  {
   "cell_type": "code",
   "execution_count": 2,
   "id": "85d3268c",
   "metadata": {},
   "outputs": [],
   "source": [
    "import numpy as np\n",
    "\n",
    "from scipy import stats\n",
    "\n",
    "from scipy.stats import norm\n"
   ]
  },
  {
   "cell_type": "code",
   "execution_count": 3,
   "id": "bf877955",
   "metadata": {},
   "outputs": [
    {
     "name": "stdout",
     "output_type": "stream",
     "text": [
      "Mean Profit is Rs 540 Million\n"
     ]
    }
   ],
   "source": [
    "Mean = 5+7\n",
    "\n",
    "print('Mean Profit is Rs', Mean*45,'Million')\n"
   ]
  },
  {
   "cell_type": "code",
   "execution_count": 14,
   "id": "d7f7a1e1",
   "metadata": {},
   "outputs": [
    {
     "name": "stdout",
     "output_type": "stream",
     "text": [
      "Standard Deviation is Rs 387.1046370169182 Million\n"
     ]
    }
   ],
   "source": [
    "SD = np.sqrt((32)+(42)) # as sum of std for two normal function is square root of sum of variance\n",
    "\n",
    "print('Standard Deviation is Rs', SD*45, 'Million')\n"
   ]
  },
  {
   "cell_type": "code",
   "execution_count": 15,
   "id": "0fd40862",
   "metadata": {},
   "outputs": [
    {
     "name": "stdout",
     "output_type": "stream",
     "text": [
      "Range is Rs (-218.5060620170009, 1298.5060620170009) in Millions\n"
     ]
    }
   ],
   "source": [
    "print('Range is Rs',(stats.norm.interval(0.95,540,387)),'in Millions')\n"
   ]
  },
  {
   "cell_type": "code",
   "execution_count": 16,
   "id": "a77fb9e9",
   "metadata": {},
   "outputs": [
    {
     "name": "stdout",
     "output_type": "stream",
     "text": [
      "5th percentile of profit (in Million Rupees) is -97.0\n",
      "Range is Rs (-218.5060620170009, 1298.5060620170009) in Millions\n"
     ]
    }
   ],
   "source": [
    "X= 540+(-1.645)*(387)\n",
    "# as z score for 5 th percentile is -1.645\n",
    "\n",
    "print('5th percentile of profit (in Million Rupees) is',np.round(X,))\n",
    "\n",
    "print('Range is Rs',(stats.norm.interval(0.95,540,387)),'in Millions')\n"
   ]
  },
  {
   "cell_type": "code",
   "execution_count": 17,
   "id": "1a7bcdf9",
   "metadata": {},
   "outputs": [
    {
     "name": "stdout",
     "output_type": "stream",
     "text": [
      "5th percentile of profit (in Million Rupees) is -97.0\n"
     ]
    }
   ],
   "source": [
    "X= 540+(-1.645)*(387)\n",
    "\n",
    "print('5th percentile of profit (in Million Rupees) is',np.round(X,))\n",
    "\n",
    "\n"
   ]
  },
  {
   "cell_type": "code",
   "execution_count": 18,
   "id": "21e411a3",
   "metadata": {},
   "outputs": [
    {
     "data": {
      "text/plain": [
       "0.43791798319170516"
      ]
     },
     "execution_count": 18,
     "metadata": {},
     "output_type": "execute_result"
    }
   ],
   "source": [
    "stats.norm.cdf(0,5,32) # as nornal distribution is given for profit so for loss confidence i nterval(x) is taken as 0 \n"
   ]
  },
  {
   "cell_type": "code",
   "execution_count": 19,
   "id": "b71a755a",
   "metadata": {},
   "outputs": [
    {
     "data": {
      "text/plain": [
       "0.43381616738909634"
      ]
     },
     "execution_count": 19,
     "metadata": {},
     "output_type": "execute_result"
    }
   ],
   "source": [
    "stats.norm.cdf(0,7,42)\n"
   ]
  },
  {
   "cell_type": "code",
   "execution_count": 20,
   "id": "60709c52",
   "metadata": {},
   "outputs": [],
   "source": [
    "# so part one of company has more chance of loss."
   ]
  },
  {
   "cell_type": "code",
   "execution_count": null,
   "id": "224f81e4",
   "metadata": {},
   "outputs": [],
   "source": []
  }
 ],
 "metadata": {
  "kernelspec": {
   "display_name": "Python 3 (ipykernel)",
   "language": "python",
   "name": "python3"
  },
  "language_info": {
   "codemirror_mode": {
    "name": "ipython",
    "version": 3
   },
   "file_extension": ".py",
   "mimetype": "text/x-python",
   "name": "python",
   "nbconvert_exporter": "python",
   "pygments_lexer": "ipython3",
   "version": "3.9.12"
  }
 },
 "nbformat": 4,
 "nbformat_minor": 5
}
