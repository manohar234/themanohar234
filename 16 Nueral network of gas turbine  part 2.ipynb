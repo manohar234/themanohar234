{
 "cells": [
  {
   "cell_type": "code",
   "execution_count": 1,
   "id": "0eb6a2cc",
   "metadata": {},
   "outputs": [],
   "source": [
    "# Importing the necessary packages\n",
    "import pandas as pd\n",
    "import numpy as np\n",
    "import keras\n",
    "from sklearn.preprocessing import StandardScaler"
   ]
  },
  {
   "cell_type": "code",
   "execution_count": 2,
   "id": "81a3d527",
   "metadata": {},
   "outputs": [
    {
     "data": {
      "text/html": [
       "<div>\n",
       "<style scoped>\n",
       "    .dataframe tbody tr th:only-of-type {\n",
       "        vertical-align: middle;\n",
       "    }\n",
       "\n",
       "    .dataframe tbody tr th {\n",
       "        vertical-align: top;\n",
       "    }\n",
       "\n",
       "    .dataframe thead th {\n",
       "        text-align: right;\n",
       "    }\n",
       "</style>\n",
       "<table border=\"1\" class=\"dataframe\">\n",
       "  <thead>\n",
       "    <tr style=\"text-align: right;\">\n",
       "      <th></th>\n",
       "      <th>AT</th>\n",
       "      <th>AP</th>\n",
       "      <th>AH</th>\n",
       "      <th>AFDP</th>\n",
       "      <th>GTEP</th>\n",
       "      <th>TIT</th>\n",
       "      <th>TAT</th>\n",
       "      <th>TEY</th>\n",
       "      <th>CDP</th>\n",
       "      <th>CO</th>\n",
       "      <th>NOX</th>\n",
       "    </tr>\n",
       "  </thead>\n",
       "  <tbody>\n",
       "    <tr>\n",
       "      <th>0</th>\n",
       "      <td>6.8594</td>\n",
       "      <td>1007.9</td>\n",
       "      <td>96.799</td>\n",
       "      <td>3.5000</td>\n",
       "      <td>19.663</td>\n",
       "      <td>1059.2</td>\n",
       "      <td>550.00</td>\n",
       "      <td>114.70</td>\n",
       "      <td>10.605</td>\n",
       "      <td>3.1547</td>\n",
       "      <td>82.722</td>\n",
       "    </tr>\n",
       "    <tr>\n",
       "      <th>1</th>\n",
       "      <td>6.7850</td>\n",
       "      <td>1008.4</td>\n",
       "      <td>97.118</td>\n",
       "      <td>3.4998</td>\n",
       "      <td>19.728</td>\n",
       "      <td>1059.3</td>\n",
       "      <td>550.00</td>\n",
       "      <td>114.72</td>\n",
       "      <td>10.598</td>\n",
       "      <td>3.2363</td>\n",
       "      <td>82.776</td>\n",
       "    </tr>\n",
       "    <tr>\n",
       "      <th>2</th>\n",
       "      <td>6.8977</td>\n",
       "      <td>1008.8</td>\n",
       "      <td>95.939</td>\n",
       "      <td>3.4824</td>\n",
       "      <td>19.779</td>\n",
       "      <td>1059.4</td>\n",
       "      <td>549.87</td>\n",
       "      <td>114.71</td>\n",
       "      <td>10.601</td>\n",
       "      <td>3.2012</td>\n",
       "      <td>82.468</td>\n",
       "    </tr>\n",
       "    <tr>\n",
       "      <th>3</th>\n",
       "      <td>7.0569</td>\n",
       "      <td>1009.2</td>\n",
       "      <td>95.249</td>\n",
       "      <td>3.4805</td>\n",
       "      <td>19.792</td>\n",
       "      <td>1059.6</td>\n",
       "      <td>549.99</td>\n",
       "      <td>114.72</td>\n",
       "      <td>10.606</td>\n",
       "      <td>3.1923</td>\n",
       "      <td>82.670</td>\n",
       "    </tr>\n",
       "    <tr>\n",
       "      <th>4</th>\n",
       "      <td>7.3978</td>\n",
       "      <td>1009.7</td>\n",
       "      <td>95.150</td>\n",
       "      <td>3.4976</td>\n",
       "      <td>19.765</td>\n",
       "      <td>1059.7</td>\n",
       "      <td>549.98</td>\n",
       "      <td>114.72</td>\n",
       "      <td>10.612</td>\n",
       "      <td>3.2484</td>\n",
       "      <td>82.311</td>\n",
       "    </tr>\n",
       "    <tr>\n",
       "      <th>...</th>\n",
       "      <td>...</td>\n",
       "      <td>...</td>\n",
       "      <td>...</td>\n",
       "      <td>...</td>\n",
       "      <td>...</td>\n",
       "      <td>...</td>\n",
       "      <td>...</td>\n",
       "      <td>...</td>\n",
       "      <td>...</td>\n",
       "      <td>...</td>\n",
       "      <td>...</td>\n",
       "    </tr>\n",
       "    <tr>\n",
       "      <th>14020</th>\n",
       "      <td>16.1900</td>\n",
       "      <td>1025.5</td>\n",
       "      <td>63.856</td>\n",
       "      <td>3.1972</td>\n",
       "      <td>18.875</td>\n",
       "      <td>1054.8</td>\n",
       "      <td>549.87</td>\n",
       "      <td>109.20</td>\n",
       "      <td>10.540</td>\n",
       "      <td>3.6947</td>\n",
       "      <td>75.209</td>\n",
       "    </tr>\n",
       "    <tr>\n",
       "      <th>14021</th>\n",
       "      <td>15.8350</td>\n",
       "      <td>1025.5</td>\n",
       "      <td>63.397</td>\n",
       "      <td>3.7645</td>\n",
       "      <td>23.057</td>\n",
       "      <td>1080.4</td>\n",
       "      <td>550.16</td>\n",
       "      <td>128.14</td>\n",
       "      <td>11.693</td>\n",
       "      <td>2.3615</td>\n",
       "      <td>75.847</td>\n",
       "    </tr>\n",
       "    <tr>\n",
       "      <th>14022</th>\n",
       "      <td>14.6840</td>\n",
       "      <td>1025.5</td>\n",
       "      <td>68.801</td>\n",
       "      <td>4.1049</td>\n",
       "      <td>25.665</td>\n",
       "      <td>1096.5</td>\n",
       "      <td>550.04</td>\n",
       "      <td>140.91</td>\n",
       "      <td>12.295</td>\n",
       "      <td>1.0665</td>\n",
       "      <td>80.408</td>\n",
       "    </tr>\n",
       "    <tr>\n",
       "      <th>14023</th>\n",
       "      <td>13.5020</td>\n",
       "      <td>1025.6</td>\n",
       "      <td>72.476</td>\n",
       "      <td>3.8622</td>\n",
       "      <td>24.095</td>\n",
       "      <td>1087.4</td>\n",
       "      <td>550.30</td>\n",
       "      <td>134.40</td>\n",
       "      <td>11.949</td>\n",
       "      <td>1.2706</td>\n",
       "      <td>76.284</td>\n",
       "    </tr>\n",
       "    <tr>\n",
       "      <th>14024</th>\n",
       "      <td>12.1940</td>\n",
       "      <td>1025.4</td>\n",
       "      <td>76.860</td>\n",
       "      <td>3.8681</td>\n",
       "      <td>24.060</td>\n",
       "      <td>1087.0</td>\n",
       "      <td>550.06</td>\n",
       "      <td>134.67</td>\n",
       "      <td>NaN</td>\n",
       "      <td>NaN</td>\n",
       "      <td>NaN</td>\n",
       "    </tr>\n",
       "  </tbody>\n",
       "</table>\n",
       "<p>14025 rows × 11 columns</p>\n",
       "</div>"
      ],
      "text/plain": [
       "            AT      AP      AH    AFDP    GTEP     TIT     TAT     TEY  \\\n",
       "0       6.8594  1007.9  96.799  3.5000  19.663  1059.2  550.00  114.70   \n",
       "1       6.7850  1008.4  97.118  3.4998  19.728  1059.3  550.00  114.72   \n",
       "2       6.8977  1008.8  95.939  3.4824  19.779  1059.4  549.87  114.71   \n",
       "3       7.0569  1009.2  95.249  3.4805  19.792  1059.6  549.99  114.72   \n",
       "4       7.3978  1009.7  95.150  3.4976  19.765  1059.7  549.98  114.72   \n",
       "...        ...     ...     ...     ...     ...     ...     ...     ...   \n",
       "14020  16.1900  1025.5  63.856  3.1972  18.875  1054.8  549.87  109.20   \n",
       "14021  15.8350  1025.5  63.397  3.7645  23.057  1080.4  550.16  128.14   \n",
       "14022  14.6840  1025.5  68.801  4.1049  25.665  1096.5  550.04  140.91   \n",
       "14023  13.5020  1025.6  72.476  3.8622  24.095  1087.4  550.30  134.40   \n",
       "14024  12.1940  1025.4  76.860  3.8681  24.060  1087.0  550.06  134.67   \n",
       "\n",
       "          CDP      CO     NOX  \n",
       "0      10.605  3.1547  82.722  \n",
       "1      10.598  3.2363  82.776  \n",
       "2      10.601  3.2012  82.468  \n",
       "3      10.606  3.1923  82.670  \n",
       "4      10.612  3.2484  82.311  \n",
       "...       ...     ...     ...  \n",
       "14020  10.540  3.6947  75.209  \n",
       "14021  11.693  2.3615  75.847  \n",
       "14022  12.295  1.0665  80.408  \n",
       "14023  11.949  1.2706  76.284  \n",
       "14024     NaN     NaN     NaN  \n",
       "\n",
       "[14025 rows x 11 columns]"
      ]
     },
     "execution_count": 2,
     "metadata": {},
     "output_type": "execute_result"
    }
   ],
   "source": [
    "df=pd.read_csv(\"gas_turbines.csv\")\n",
    "df"
   ]
  },
  {
   "cell_type": "code",
   "execution_count": 3,
   "id": "f1de8938",
   "metadata": {},
   "outputs": [
    {
     "name": "stdout",
     "output_type": "stream",
     "text": [
      "<class 'pandas.core.frame.DataFrame'>\n",
      "RangeIndex: 14025 entries, 0 to 14024\n",
      "Data columns (total 11 columns):\n",
      " #   Column  Non-Null Count  Dtype  \n",
      "---  ------  --------------  -----  \n",
      " 0   AT      14025 non-null  float64\n",
      " 1   AP      14025 non-null  float64\n",
      " 2   AH      14025 non-null  float64\n",
      " 3   AFDP    14025 non-null  float64\n",
      " 4   GTEP    14025 non-null  float64\n",
      " 5   TIT     14025 non-null  float64\n",
      " 6   TAT     14025 non-null  float64\n",
      " 7   TEY     14025 non-null  float64\n",
      " 8   CDP     14024 non-null  float64\n",
      " 9   CO      14024 non-null  float64\n",
      " 10  NOX     14024 non-null  float64\n",
      "dtypes: float64(11)\n",
      "memory usage: 1.2 MB\n"
     ]
    }
   ],
   "source": [
    "df.info()"
   ]
  },
  {
   "cell_type": "code",
   "execution_count": 4,
   "id": "636d27cd",
   "metadata": {},
   "outputs": [
    {
     "data": {
      "text/plain": [
       "AT      float64\n",
       "AP      float64\n",
       "AH      float64\n",
       "AFDP    float64\n",
       "GTEP    float64\n",
       "TIT     float64\n",
       "TAT     float64\n",
       "TEY     float64\n",
       "CDP     float64\n",
       "CO      float64\n",
       "NOX     float64\n",
       "dtype: object"
      ]
     },
     "execution_count": 4,
     "metadata": {},
     "output_type": "execute_result"
    }
   ],
   "source": [
    "df.dtypes"
   ]
  },
  {
   "cell_type": "code",
   "execution_count": null,
   "id": "e688abc8",
   "metadata": {},
   "outputs": [],
   "source": []
  },
  {
   "cell_type": "code",
   "execution_count": 5,
   "id": "08d2de66",
   "metadata": {},
   "outputs": [
    {
     "data": {
      "text/html": [
       "<div>\n",
       "<style scoped>\n",
       "    .dataframe tbody tr th:only-of-type {\n",
       "        vertical-align: middle;\n",
       "    }\n",
       "\n",
       "    .dataframe tbody tr th {\n",
       "        vertical-align: top;\n",
       "    }\n",
       "\n",
       "    .dataframe thead th {\n",
       "        text-align: right;\n",
       "    }\n",
       "</style>\n",
       "<table border=\"1\" class=\"dataframe\">\n",
       "  <thead>\n",
       "    <tr style=\"text-align: right;\">\n",
       "      <th></th>\n",
       "      <th>AP</th>\n",
       "      <th>NOX</th>\n",
       "      <th>TIT</th>\n",
       "      <th>TAT</th>\n",
       "      <th>AFDP</th>\n",
       "      <th>CO</th>\n",
       "      <th>AT</th>\n",
       "      <th>TEY</th>\n",
       "    </tr>\n",
       "  </thead>\n",
       "  <tbody>\n",
       "    <tr>\n",
       "      <th>0</th>\n",
       "      <td>1007.9</td>\n",
       "      <td>82.722</td>\n",
       "      <td>1059.2</td>\n",
       "      <td>550.00</td>\n",
       "      <td>3.5000</td>\n",
       "      <td>3.1547</td>\n",
       "      <td>6.8594</td>\n",
       "      <td>114.70</td>\n",
       "    </tr>\n",
       "    <tr>\n",
       "      <th>1</th>\n",
       "      <td>1008.4</td>\n",
       "      <td>82.776</td>\n",
       "      <td>1059.3</td>\n",
       "      <td>550.00</td>\n",
       "      <td>3.4998</td>\n",
       "      <td>3.2363</td>\n",
       "      <td>6.7850</td>\n",
       "      <td>114.72</td>\n",
       "    </tr>\n",
       "    <tr>\n",
       "      <th>2</th>\n",
       "      <td>1008.8</td>\n",
       "      <td>82.468</td>\n",
       "      <td>1059.4</td>\n",
       "      <td>549.87</td>\n",
       "      <td>3.4824</td>\n",
       "      <td>3.2012</td>\n",
       "      <td>6.8977</td>\n",
       "      <td>114.71</td>\n",
       "    </tr>\n",
       "    <tr>\n",
       "      <th>3</th>\n",
       "      <td>1009.2</td>\n",
       "      <td>82.670</td>\n",
       "      <td>1059.6</td>\n",
       "      <td>549.99</td>\n",
       "      <td>3.4805</td>\n",
       "      <td>3.1923</td>\n",
       "      <td>7.0569</td>\n",
       "      <td>114.72</td>\n",
       "    </tr>\n",
       "    <tr>\n",
       "      <th>4</th>\n",
       "      <td>1009.7</td>\n",
       "      <td>82.311</td>\n",
       "      <td>1059.7</td>\n",
       "      <td>549.98</td>\n",
       "      <td>3.4976</td>\n",
       "      <td>3.2484</td>\n",
       "      <td>7.3978</td>\n",
       "      <td>114.72</td>\n",
       "    </tr>\n",
       "  </tbody>\n",
       "</table>\n",
       "</div>"
      ],
      "text/plain": [
       "       AP     NOX     TIT     TAT    AFDP      CO      AT     TEY\n",
       "0  1007.9  82.722  1059.2  550.00  3.5000  3.1547  6.8594  114.70\n",
       "1  1008.4  82.776  1059.3  550.00  3.4998  3.2363  6.7850  114.72\n",
       "2  1008.8  82.468  1059.4  549.87  3.4824  3.2012  6.8977  114.71\n",
       "3  1009.2  82.670  1059.6  549.99  3.4805  3.1923  7.0569  114.72\n",
       "4  1009.7  82.311  1059.7  549.98  3.4976  3.2484  7.3978  114.72"
      ]
     },
     "execution_count": 5,
     "metadata": {},
     "output_type": "execute_result"
    }
   ],
   "source": [
    "model_data = df[['AP', 'NOX','TIT', 'TAT', 'AFDP', 'CO', 'AT',\"TEY\"]]\n",
    "model_data.head()"
   ]
  },
  {
   "cell_type": "code",
   "execution_count": 6,
   "id": "a11868ce",
   "metadata": {},
   "outputs": [],
   "source": [
    "X = model_data.iloc[:,0:7]\n",
    "y = model_data.iloc[:,7]"
   ]
  },
  {
   "cell_type": "code",
   "execution_count": 7,
   "id": "4f0ccd36",
   "metadata": {},
   "outputs": [],
   "source": [
    "# Standardization\n",
    "a = StandardScaler()\n",
    "a.fit(X)\n",
    "X_standardized = a.transform(X)"
   ]
  },
  {
   "cell_type": "code",
   "execution_count": 8,
   "id": "f4bbd4ca",
   "metadata": {},
   "outputs": [
    {
     "data": {
      "text/plain": [
       "array([[-0.80004476,  1.51145145, -1.5247711 , ..., -0.91319242,\n",
       "         0.57119435, -1.50315501],\n",
       "       [-0.71865469,  1.5168099 , -1.51865274, ..., -0.9134516 ,\n",
       "         0.60921661, -1.51298546],\n",
       "       [-0.65354263,  1.48624691, -1.51253438, ..., -0.93600015,\n",
       "         0.59286145, -1.49809444],\n",
       "       ...,\n",
       "       [ 2.06488587,  1.28183214,  0.75737765, ..., -0.12930642,\n",
       "        -0.4018213 , -0.46929286],\n",
       "       [ 2.08116389,  0.87260567,  0.20060678, ..., -0.44381978,\n",
       "        -0.30671906, -0.62547018],\n",
       "       [ 2.04860786,         nan,  0.17613333, ..., -0.43617401,\n",
       "                nan, -0.79829584]])"
      ]
     },
     "execution_count": 8,
     "metadata": {},
     "output_type": "execute_result"
    }
   ],
   "source": [
    "X_standardized"
   ]
  },
  {
   "cell_type": "code",
   "execution_count": 9,
   "id": "0e2d1fff",
   "metadata": {},
   "outputs": [
    {
     "data": {
      "text/plain": [
       "(14025, 7)"
      ]
     },
     "execution_count": 9,
     "metadata": {},
     "output_type": "execute_result"
    }
   ],
   "source": [
    "X_standardized.shape"
   ]
  },
  {
   "cell_type": "code",
   "execution_count": 10,
   "id": "ddbb52a7",
   "metadata": {},
   "outputs": [
    {
     "data": {
      "text/plain": [
       "(14025,)"
      ]
     },
     "execution_count": 10,
     "metadata": {},
     "output_type": "execute_result"
    }
   ],
   "source": [
    "y.shape"
   ]
  },
  {
   "cell_type": "code",
   "execution_count": 11,
   "id": "10441419",
   "metadata": {},
   "outputs": [],
   "source": [
    "# Importing the necessary packages\n",
    "from sklearn.model_selection import GridSearchCV, KFold\n",
    "from keras.models import Sequential\n",
    "from keras.layers import Dense\n",
    "from keras.wrappers.scikit_learn import KerasClassifier\n",
    "from keras.optimizers import adam_v2"
   ]
  },
  {
   "cell_type": "code",
   "execution_count": 12,
   "id": "ca5313e8",
   "metadata": {},
   "outputs": [],
   "source": [
    "from keras.optimizers import SGD"
   ]
  },
  {
   "cell_type": "code",
   "execution_count": 13,
   "id": "1dfe279b",
   "metadata": {},
   "outputs": [],
   "source": [
    "# create model\n",
    "model = Sequential()\n",
    "model.add(Dense(units=12, input_dim=7,  activation='relu')) #1st layer\n",
    "model.add(Dense(7, input_dim=12, activation='relu')) #2nd layer\n",
    "model.add(Dense(1, activation='linear')) #3rd layer or op layer"
   ]
  },
  {
   "cell_type": "code",
   "execution_count": 1,
   "id": "856cb861",
   "metadata": {},
   "outputs": [],
   "source": [
    " # output layer of neural network contain\n",
    "    # for regression model(continuous data) , output layer may contain linear function, \n",
    "# sigmoid for binary classification \n",
    "# softmax for multi classification "
   ]
  },
  {
   "cell_type": "code",
   "execution_count": 14,
   "id": "fd18cdc4",
   "metadata": {},
   "outputs": [
    {
     "name": "stderr",
     "output_type": "stream",
     "text": [
      "D:\\python\\lib\\site-packages\\keras\\optimizers\\optimizer_v2\\gradient_descent.py:111: UserWarning: The `lr` argument is deprecated, use `learning_rate` instead.\n",
      "  super().__init__(name, **kwargs)\n"
     ]
    }
   ],
   "source": [
    "# Compile model\n",
    "opt=SGD(lr=0.01,momentum=0.9)\n",
    "model.compile(loss='mean_squared_logarithmic_error', optimizer=opt, metrics=['mse'])"
   ]
  },
  {
   "cell_type": "code",
   "execution_count": 2,
   "id": "f5894efd",
   "metadata": {},
   "outputs": [],
   "source": [
    "# optimizer for regression model will be mean squaresd error or mse logarithmic etc\n",
    "# binary crossentropy for binary classification"
   ]
  },
  {
   "cell_type": "code",
   "execution_count": null,
   "id": "f10a717f",
   "metadata": {},
   "outputs": [],
   "source": []
  },
  {
   "cell_type": "code",
   "execution_count": 15,
   "id": "a2bc554b",
   "metadata": {},
   "outputs": [
    {
     "name": "stdout",
     "output_type": "stream",
     "text": [
      "Epoch 1/100\n",
      "197/197 [==============================] - 1s 3ms/step - loss: 1.0063 - mse: 2695.9084 - val_loss: nan - val_mse: nan\n",
      "Epoch 2/100\n",
      "197/197 [==============================] - 0s 2ms/step - loss: 0.0167 - mse: 335.9171 - val_loss: nan - val_mse: nan\n",
      "Epoch 3/100\n",
      "197/197 [==============================] - 0s 2ms/step - loss: 0.0108 - mse: 217.6916 - val_loss: nan - val_mse: nan\n",
      "Epoch 4/100\n",
      "197/197 [==============================] - 0s 2ms/step - loss: 0.0084 - mse: 166.7179 - val_loss: nan - val_mse: nan\n",
      "Epoch 5/100\n",
      "197/197 [==============================] - 0s 2ms/step - loss: 0.0070 - mse: 138.6660 - val_loss: nan - val_mse: nan\n",
      "Epoch 6/100\n",
      "197/197 [==============================] - 0s 2ms/step - loss: 0.0061 - mse: 119.7793 - val_loss: nan - val_mse: nan\n",
      "Epoch 7/100\n",
      "197/197 [==============================] - 0s 2ms/step - loss: 0.0054 - mse: 105.4406 - val_loss: nan - val_mse: nan\n",
      "Epoch 8/100\n",
      "197/197 [==============================] - 0s 2ms/step - loss: 0.0049 - mse: 94.2770 - val_loss: nan - val_mse: nan\n",
      "Epoch 9/100\n",
      "197/197 [==============================] - 0s 2ms/step - loss: 0.0044 - mse: 85.1205 - val_loss: nan - val_mse: nan\n",
      "Epoch 10/100\n",
      "197/197 [==============================] - 0s 2ms/step - loss: 0.0040 - mse: 77.3301 - val_loss: nan - val_mse: nan\n",
      "Epoch 11/100\n",
      "197/197 [==============================] - 0s 2ms/step - loss: 0.0037 - mse: 71.1752 - val_loss: nan - val_mse: nan\n",
      "Epoch 12/100\n",
      "197/197 [==============================] - 0s 2ms/step - loss: 0.0034 - mse: 65.3253 - val_loss: nan - val_mse: nan\n",
      "Epoch 13/100\n",
      "197/197 [==============================] - 0s 2ms/step - loss: 0.0032 - mse: 60.4235 - val_loss: nan - val_mse: nan\n",
      "Epoch 14/100\n",
      "197/197 [==============================] - 1s 3ms/step - loss: 0.0030 - mse: 56.0649 - val_loss: nan - val_mse: nan\n",
      "Epoch 15/100\n",
      "197/197 [==============================] - 0s 2ms/step - loss: 0.0028 - mse: 52.0641 - val_loss: nan - val_mse: nan\n",
      "Epoch 16/100\n",
      "197/197 [==============================] - 0s 2ms/step - loss: 0.0026 - mse: 48.7262 - val_loss: nan - val_mse: nan\n",
      "Epoch 17/100\n",
      "197/197 [==============================] - 0s 2ms/step - loss: 0.0024 - mse: 45.5967 - val_loss: nan - val_mse: nan\n",
      "Epoch 18/100\n",
      "197/197 [==============================] - 0s 2ms/step - loss: 0.0023 - mse: 42.7534 - val_loss: nan - val_mse: nan\n",
      "Epoch 19/100\n",
      "197/197 [==============================] - 0s 2ms/step - loss: 0.0022 - mse: 40.2190 - val_loss: nan - val_mse: nan\n",
      "Epoch 20/100\n",
      "197/197 [==============================] - 0s 2ms/step - loss: 0.0020 - mse: 37.8566 - val_loss: nan - val_mse: nan\n",
      "Epoch 21/100\n",
      "197/197 [==============================] - 0s 2ms/step - loss: 0.0019 - mse: 35.6913 - val_loss: nan - val_mse: nan\n",
      "Epoch 22/100\n",
      "197/197 [==============================] - 0s 2ms/step - loss: 0.0018 - mse: 33.7847 - val_loss: nan - val_mse: nan\n",
      "Epoch 23/100\n",
      "197/197 [==============================] - 0s 2ms/step - loss: 0.0017 - mse: 31.7789 - val_loss: nan - val_mse: nan\n",
      "Epoch 24/100\n",
      "197/197 [==============================] - 0s 2ms/step - loss: 0.0016 - mse: 30.3118 - val_loss: nan - val_mse: nan\n",
      "Epoch 25/100\n",
      "197/197 [==============================] - 0s 2ms/step - loss: 0.0015 - mse: 28.7062 - val_loss: nan - val_mse: nan\n",
      "Epoch 26/100\n",
      "197/197 [==============================] - 0s 2ms/step - loss: 0.0015 - mse: 27.3026 - val_loss: nan - val_mse: nan\n",
      "Epoch 27/100\n",
      "197/197 [==============================] - 0s 2ms/step - loss: 0.0014 - mse: 25.9864 - val_loss: nan - val_mse: nan\n",
      "Epoch 28/100\n",
      "197/197 [==============================] - 0s 2ms/step - loss: 0.0013 - mse: 24.8178 - val_loss: nan - val_mse: nan\n",
      "Epoch 29/100\n",
      "197/197 [==============================] - 0s 2ms/step - loss: 0.0013 - mse: 23.5936 - val_loss: nan - val_mse: nan\n",
      "Epoch 30/100\n",
      "197/197 [==============================] - 0s 2ms/step - loss: 0.0012 - mse: 22.5936 - val_loss: nan - val_mse: nan\n",
      "Epoch 31/100\n",
      "197/197 [==============================] - 0s 2ms/step - loss: 0.0012 - mse: 21.6007 - val_loss: nan - val_mse: nan\n",
      "Epoch 32/100\n",
      "197/197 [==============================] - 0s 2ms/step - loss: 0.0011 - mse: 20.6504 - val_loss: nan - val_mse: nan\n",
      "Epoch 33/100\n",
      "197/197 [==============================] - 0s 2ms/step - loss: 0.0011 - mse: 19.8211 - val_loss: nan - val_mse: nan\n",
      "Epoch 34/100\n",
      "197/197 [==============================] - 0s 2ms/step - loss: 0.0010 - mse: 18.9839 - val_loss: nan - val_mse: nan\n",
      "Epoch 35/100\n",
      "197/197 [==============================] - 0s 2ms/step - loss: 9.7966e-04 - mse: 18.2563 - val_loss: nan - val_mse: nan\n",
      "Epoch 36/100\n",
      "197/197 [==============================] - 0s 2ms/step - loss: 9.4049e-04 - mse: 17.5036 - val_loss: nan - val_mse: nan\n",
      "Epoch 37/100\n",
      "197/197 [==============================] - 0s 2ms/step - loss: 9.0424e-04 - mse: 16.8379 - val_loss: nan - val_mse: nan\n",
      "Epoch 38/100\n",
      "197/197 [==============================] - 0s 2ms/step - loss: 8.6992e-04 - mse: 16.2374 - val_loss: nan - val_mse: nan\n",
      "Epoch 39/100\n",
      "197/197 [==============================] - 0s 2ms/step - loss: 8.3762e-04 - mse: 15.6029 - val_loss: nan - val_mse: nan\n",
      "Epoch 40/100\n",
      "197/197 [==============================] - 0s 2ms/step - loss: 8.0703e-04 - mse: 15.0780 - val_loss: nan - val_mse: nan\n",
      "Epoch 41/100\n",
      "197/197 [==============================] - 1s 3ms/step - loss: 7.7825e-04 - mse: 14.5342 - val_loss: nan - val_mse: nan\n",
      "Epoch 42/100\n",
      "197/197 [==============================] - 1s 3ms/step - loss: 7.5103e-04 - mse: 14.0603 - val_loss: nan - val_mse: nan\n",
      "Epoch 43/100\n",
      "197/197 [==============================] - 1s 4ms/step - loss: 7.2548e-04 - mse: 13.5933 - val_loss: nan - val_mse: nan\n",
      "Epoch 44/100\n",
      "197/197 [==============================] - 1s 4ms/step - loss: 7.0205e-04 - mse: 13.1218 - val_loss: nan - val_mse: nan\n",
      "Epoch 45/100\n",
      "197/197 [==============================] - 1s 3ms/step - loss: 6.7997e-04 - mse: 12.7468 - val_loss: nan - val_mse: nan\n",
      "Epoch 46/100\n",
      "197/197 [==============================] - 0s 2ms/step - loss: 6.5879e-04 - mse: 12.3388 - val_loss: nan - val_mse: nan\n",
      "Epoch 47/100\n",
      "197/197 [==============================] - 0s 2ms/step - loss: 6.3983e-04 - mse: 11.9902 - val_loss: nan - val_mse: nan\n",
      "Epoch 48/100\n",
      "197/197 [==============================] - 0s 2ms/step - loss: 6.2065e-04 - mse: 11.6646 - val_loss: nan - val_mse: nan\n",
      "Epoch 49/100\n",
      "197/197 [==============================] - 0s 2ms/step - loss: 6.0260e-04 - mse: 11.2989 - val_loss: nan - val_mse: nan\n",
      "Epoch 50/100\n",
      "197/197 [==============================] - 0s 2ms/step - loss: 5.8541e-04 - mse: 10.9926 - val_loss: nan - val_mse: nan\n",
      "Epoch 51/100\n",
      "197/197 [==============================] - 0s 2ms/step - loss: 5.6988e-04 - mse: 10.6906 - val_loss: nan - val_mse: nan\n",
      "Epoch 52/100\n",
      "197/197 [==============================] - 0s 2ms/step - loss: 5.5406e-04 - mse: 10.3930 - val_loss: nan - val_mse: nan\n",
      "Epoch 53/100\n",
      "197/197 [==============================] - 1s 3ms/step - loss: 5.3935e-04 - mse: 10.1116 - val_loss: nan - val_mse: nan\n",
      "Epoch 54/100\n",
      "197/197 [==============================] - 0s 2ms/step - loss: 5.2580e-04 - mse: 9.8737 - val_loss: nan - val_mse: nan\n",
      "Epoch 55/100\n",
      "197/197 [==============================] - 0s 2ms/step - loss: 5.1319e-04 - mse: 9.6425 - val_loss: nan - val_mse: nan\n",
      "Epoch 56/100\n",
      "197/197 [==============================] - 0s 2ms/step - loss: 5.0082e-04 - mse: 9.4035 - val_loss: nan - val_mse: nan\n",
      "Epoch 57/100\n",
      "197/197 [==============================] - 0s 2ms/step - loss: 4.8900e-04 - mse: 9.1804 - val_loss: nan - val_mse: nan\n",
      "Epoch 58/100\n",
      "197/197 [==============================] - 0s 2ms/step - loss: 4.7810e-04 - mse: 8.9713 - val_loss: nan - val_mse: nan\n",
      "Epoch 59/100\n",
      "197/197 [==============================] - 0s 2ms/step - loss: 4.6700e-04 - mse: 8.7661 - val_loss: nan - val_mse: nan\n",
      "Epoch 60/100\n",
      "197/197 [==============================] - 0s 2ms/step - loss: 4.5702e-04 - mse: 8.5853 - val_loss: nan - val_mse: nan\n",
      "Epoch 61/100\n",
      "197/197 [==============================] - 0s 2ms/step - loss: 4.4691e-04 - mse: 8.3965 - val_loss: nan - val_mse: nan\n",
      "Epoch 62/100\n",
      "197/197 [==============================] - 0s 2ms/step - loss: 4.3759e-04 - mse: 8.2196 - val_loss: nan - val_mse: nan\n",
      "Epoch 63/100\n",
      "197/197 [==============================] - 1s 4ms/step - loss: 4.2834e-04 - mse: 8.0434 - val_loss: nan - val_mse: nan\n",
      "Epoch 64/100\n",
      "197/197 [==============================] - 0s 2ms/step - loss: 4.1995e-04 - mse: 7.8840 - val_loss: nan - val_mse: nan\n",
      "Epoch 65/100\n",
      "197/197 [==============================] - 0s 2ms/step - loss: 4.1110e-04 - mse: 7.7254 - val_loss: nan - val_mse: nan\n",
      "Epoch 66/100\n",
      "197/197 [==============================] - 0s 2ms/step - loss: 4.0314e-04 - mse: 7.5671 - val_loss: nan - val_mse: nan\n",
      "Epoch 67/100\n",
      "197/197 [==============================] - 0s 2ms/step - loss: 3.9550e-04 - mse: 7.4188 - val_loss: nan - val_mse: nan\n",
      "Epoch 68/100\n",
      "197/197 [==============================] - 0s 2ms/step - loss: 3.8777e-04 - mse: 7.2861 - val_loss: nan - val_mse: nan\n",
      "Epoch 69/100\n",
      "197/197 [==============================] - 0s 2ms/step - loss: 3.8040e-04 - mse: 7.1406 - val_loss: nan - val_mse: nan\n",
      "Epoch 70/100\n",
      "197/197 [==============================] - 0s 2ms/step - loss: 3.7342e-04 - mse: 7.0041 - val_loss: nan - val_mse: nan\n",
      "Epoch 71/100\n",
      "197/197 [==============================] - 0s 2ms/step - loss: 3.6658e-04 - mse: 6.8736 - val_loss: nan - val_mse: nan\n",
      "Epoch 72/100\n",
      "197/197 [==============================] - 0s 2ms/step - loss: 3.5979e-04 - mse: 6.7531 - val_loss: nan - val_mse: nan\n",
      "Epoch 73/100\n",
      "197/197 [==============================] - 0s 2ms/step - loss: 3.5355e-04 - mse: 6.6267 - val_loss: nan - val_mse: nan\n",
      "Epoch 74/100\n",
      "197/197 [==============================] - 0s 2ms/step - loss: 3.4734e-04 - mse: 6.5097 - val_loss: nan - val_mse: nan\n",
      "Epoch 75/100\n",
      "197/197 [==============================] - 0s 2ms/step - loss: 3.4116e-04 - mse: 6.3932 - val_loss: nan - val_mse: nan\n",
      "Epoch 76/100\n",
      "197/197 [==============================] - 0s 2ms/step - loss: 3.3535e-04 - mse: 6.2798 - val_loss: nan - val_mse: nan\n",
      "Epoch 77/100\n",
      "197/197 [==============================] - 0s 2ms/step - loss: 3.2947e-04 - mse: 6.1692 - val_loss: nan - val_mse: nan\n",
      "Epoch 78/100\n",
      "197/197 [==============================] - 0s 2ms/step - loss: 3.2390e-04 - mse: 6.0661 - val_loss: nan - val_mse: nan\n",
      "Epoch 79/100\n",
      "197/197 [==============================] - 0s 2ms/step - loss: 3.1866e-04 - mse: 5.9712 - val_loss: nan - val_mse: nan\n",
      "Epoch 80/100\n",
      "197/197 [==============================] - 0s 2ms/step - loss: 3.1328e-04 - mse: 5.8591 - val_loss: nan - val_mse: nan\n",
      "Epoch 81/100\n",
      "197/197 [==============================] - 0s 2ms/step - loss: 3.0815e-04 - mse: 5.7678 - val_loss: nan - val_mse: nan\n",
      "Epoch 82/100\n",
      "197/197 [==============================] - 0s 2ms/step - loss: 3.0326e-04 - mse: 5.6728 - val_loss: nan - val_mse: nan\n",
      "Epoch 83/100\n",
      "197/197 [==============================] - 0s 2ms/step - loss: 2.9851e-04 - mse: 5.5869 - val_loss: nan - val_mse: nan\n",
      "Epoch 84/100\n",
      "197/197 [==============================] - 0s 2ms/step - loss: 2.9355e-04 - mse: 5.4909 - val_loss: nan - val_mse: nan\n",
      "Epoch 85/100\n",
      "197/197 [==============================] - 0s 2ms/step - loss: 2.8920e-04 - mse: 5.4068 - val_loss: nan - val_mse: nan\n",
      "Epoch 86/100\n",
      "197/197 [==============================] - 0s 2ms/step - loss: 2.8478e-04 - mse: 5.3259 - val_loss: nan - val_mse: nan\n",
      "Epoch 87/100\n",
      "197/197 [==============================] - 0s 2ms/step - loss: 2.8024e-04 - mse: 5.2435 - val_loss: nan - val_mse: nan\n",
      "Epoch 88/100\n",
      "197/197 [==============================] - 0s 2ms/step - loss: 2.7587e-04 - mse: 5.1588 - val_loss: nan - val_mse: nan\n",
      "Epoch 89/100\n",
      "197/197 [==============================] - 1s 3ms/step - loss: 2.7180e-04 - mse: 5.0855 - val_loss: nan - val_mse: nan\n",
      "Epoch 90/100\n",
      "197/197 [==============================] - 1s 4ms/step - loss: 2.6791e-04 - mse: 5.0093 - val_loss: nan - val_mse: nan\n",
      "Epoch 91/100\n",
      "197/197 [==============================] - 1s 3ms/step - loss: 2.6360e-04 - mse: 4.9334 - val_loss: nan - val_mse: nan\n",
      "Epoch 92/100\n",
      "197/197 [==============================] - 0s 2ms/step - loss: 2.5977e-04 - mse: 4.8588 - val_loss: nan - val_mse: nan\n",
      "Epoch 93/100\n",
      "197/197 [==============================] - 0s 2ms/step - loss: 2.5581e-04 - mse: 4.7874 - val_loss: nan - val_mse: nan\n",
      "Epoch 94/100\n",
      "197/197 [==============================] - 0s 2ms/step - loss: 2.5235e-04 - mse: 4.7179 - val_loss: nan - val_mse: nan\n",
      "Epoch 95/100\n",
      "197/197 [==============================] - 0s 2ms/step - loss: 2.4848e-04 - mse: 4.6508 - val_loss: nan - val_mse: nan\n",
      "Epoch 96/100\n",
      "197/197 [==============================] - 0s 2ms/step - loss: 2.4506e-04 - mse: 4.5836 - val_loss: nan - val_mse: nan\n",
      "Epoch 97/100\n",
      "197/197 [==============================] - 0s 2ms/step - loss: 2.4159e-04 - mse: 4.5199 - val_loss: nan - val_mse: nan\n",
      "Epoch 98/100\n",
      "197/197 [==============================] - 0s 2ms/step - loss: 2.3783e-04 - mse: 4.4576 - val_loss: nan - val_mse: nan\n",
      "Epoch 99/100\n",
      "197/197 [==============================] - 0s 2ms/step - loss: 2.3465e-04 - mse: 4.3953 - val_loss: nan - val_mse: nan\n",
      "Epoch 100/100\n",
      "197/197 [==============================] - 0s 2ms/step - loss: 2.3146e-04 - mse: 4.3303 - val_loss: nan - val_mse: nan\n"
     ]
    }
   ],
   "source": [
    "# Fit the model\n",
    "history = model.fit(X_standardized,y, validation_split=0.30, epochs=100, batch_size=50)"
   ]
  },
  {
   "cell_type": "code",
   "execution_count": 18,
   "id": "ed3e5206",
   "metadata": {},
   "outputs": [
    {
     "name": "stdout",
     "output_type": "stream",
     "text": [
      "439/439 [==============================] - 0s 1ms/step - loss: nan - mse: nan      \n"
     ]
    },
    {
     "data": {
      "text/plain": [
       "[nan, nan]"
      ]
     },
     "execution_count": 18,
     "metadata": {},
     "output_type": "execute_result"
    }
   ],
   "source": [
    "# evaluate the model\n",
    "scores = model.evaluate(X_standardized, y)\n",
    "scores"
   ]
  },
  {
   "cell_type": "code",
   "execution_count": 19,
   "id": "66e8d1f5",
   "metadata": {},
   "outputs": [
    {
     "data": {
      "text/plain": [
       "dict_keys(['loss', 'mse', 'val_loss', 'val_mse'])"
      ]
     },
     "execution_count": 19,
     "metadata": {},
     "output_type": "execute_result"
    }
   ],
   "source": [
    "# Visualize training history\n",
    "\n",
    "# list all data in history\n",
    "history.history.keys()\n",
    "\n"
   ]
  },
  {
   "cell_type": "code",
   "execution_count": null,
   "id": "fd951371",
   "metadata": {},
   "outputs": [],
   "source": []
  },
  {
   "cell_type": "code",
   "execution_count": null,
   "id": "7c4c7762",
   "metadata": {},
   "outputs": [],
   "source": []
  },
  {
   "cell_type": "code",
   "execution_count": 20,
   "id": "edad57ee",
   "metadata": {},
   "outputs": [
    {
     "data": {
      "image/png": "[encoded data removed]",
      "text/plain": [
       "<Figure size 640x480 with 1 Axes>"
      ]
     },
     "metadata": {},
     "output_type": "display_data"
    }
   ],
   "source": [
    "# summarize history for mse\n",
    "import matplotlib.pyplot as plt\n",
    "plt.plot(history.history['mse'])\n",
    "plt.plot(history.history['val_mse'])\n",
    "plt.title('mean squared error')\n",
    "plt.ylabel('mse')\n",
    "plt.xlabel('epoch')\n",
    "plt.legend(['train', 'test'], loc='upper left')\n",
    "plt.show()\n"
   ]
  },
  {
   "cell_type": "code",
   "execution_count": null,
   "id": "44d9ce52",
   "metadata": {},
   "outputs": [],
   "source": [
    "# summarize history for accuracy\n",
    "import matplotlib.pyplot as plt\n",
    "plt.plot(history.history['accuracy'])\n",
    "plt.plot(history.history['val_accuracy'])\n",
    "plt.title('model accuracy')\n",
    "plt.ylabel('accuracy')\n",
    "plt.xlabel('epoch')\n",
    "plt.legend(['train', 'test'], loc='upper left')\n",
    "plt.show()\n"
   ]
  },
  {
   "cell_type": "code",
   "execution_count": null,
   "id": "23907664",
   "metadata": {},
   "outputs": [],
   "source": []
  }
 ],
 "metadata": {
  "kernelspec": {
   "display_name": "Python 3 (ipykernel)",
   "language": "python",
   "name": "python3"
  },
  "language_info": {
   "codemirror_mode": {
    "name": "ipython",
    "version": 3
   },
   "file_extension": ".py",
   "mimetype": "text/x-python",
   "name": "python",
   "nbconvert_exporter": "python",
   "pygments_lexer": "ipython3",
   "version": "3.9.12"
  }
 },
 "nbformat": 4,
 "nbformat_minor": 5
}
